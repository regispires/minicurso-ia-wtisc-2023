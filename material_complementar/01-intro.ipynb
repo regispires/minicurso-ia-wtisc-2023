{
 "cells": [
  {
   "attachments": {},
   "cell_type": "markdown",
   "metadata": {},
   "source": [
    "# Minicurso Introdução à ciência de dados e aprendizado de máquina usando Python\n",
    "\n",
    "## Parte 1 - Introdução"
   ]
  },
  {
   "cell_type": "markdown",
   "metadata": {},
   "source": [
    "### Objetivos\n",
    "\n",
    "- Limpar os dados desorganizados, descobrir padrões, fazer previsões utilizando aprendizado de máquina, e comunicar claramente as descobertas."
   ]
  },
  {
   "cell_type": "markdown",
   "metadata": {},
   "source": [
    "### Organização do Minicurso\n",
    "\n",
    "#### Parte 1 - Introdução\n",
    "- Ciência de Dados\n",
    "- Aprendizado de Máquina\n",
    "- Jupyter Notebooks\n",
    "\n",
    "#### Parte 2 - Python Básico\n",
    "\n",
    "#### Parte 3 - Bibliotecas Python para Manipulação de Dados\n",
    "\n",
    "#### Parte 4 - Análise de Dados e Aprendizado de Máquina\n",
    "- Obtenção de Dados\n",
    "- Análise Exploratória de Dados\n",
    "- Manipulação e Limpeza de Dados\n",
    "- Visualização de Dados\n",
    "- Introdução ao Aprendizado de Máquina usando Python\n",
    "\n",
    "#### Parte 5 - Conclusão\n",
    "- Conclusões e Passos Futuros\n"
   ]
  },
  {
   "cell_type": "markdown",
   "metadata": {},
   "source": [
    "### Ciência de Dados\n",
    "\n",
    "Ciência de Dados é a **transformação de dados usando matemática e estatística em insights, decisões e produtos valiosos** [Foreman, 2013]. Ela é usada nas organizações para ajudar a melhorar seu funcionamento e a criar valor.\n",
    "\n",
    "A ciência de dados possui ferramentas para analisar esses dados e a partir deles, extrair conhecimentos essenciais para processos de tomada de decisão nos mais diversos contextos, como: \n",
    "\n",
    "- estratégias de logística\n",
    "- melhoria do trânsito urbano\n",
    "- controle de estoque de produtos\n",
    "- alocação de tarefas a colaboradores\n",
    "- melhoria de desempenho de alunos, atletas e vendedores\n",
    "- redução de custos\n",
    "- detecção de fraudes\n",
    "- ... \n",
    "\n",
    "**Desse modo, o uso de técnicas de análise de dados e aprendizagem de máquina podem levar ao uso muito mais eficiente de recursos.**\n"
   ]
  },
  {
   "cell_type": "markdown",
   "metadata": {},
   "source": [
    "#### Motivações\n",
    "\n",
    "- Barateamento e popularização dos dispositivos móveis e dos mais diversos tipos de sensores para coleta de dados.\n",
    "- Aumento do poder de processamento e armazenamento dos computadores.\n",
    "- Otimização de recursos em um mercado global cada vez mais competitivo.\n",
    "- Amadurecimento, melhoria e disseminação de técnicas de aprendizagem de máquina.\n"
   ]
  },
  {
   "cell_type": "markdown",
   "metadata": {},
   "source": [
    "### Seis passos importantes de um projeto de aprendizagem de máquina [Brownlee, 2016]\n",
    "\n",
    "\n",
    "1. Definição do problema\n",
    "2. Análise Exploratória dos Dados\n",
    "   - Uso de estatística descritiva e visualização para entender melhor os dados disponíveis.\n",
    "3. Preparar os dados\n",
    "   - Transformar os dados para que facilitar seu uso por algoritmos de mineração de dados / aprendizagem de máquina.\n",
    "4. Avaliar Algoritmos\n",
    "   - Avaliar os algoritmos de aprendizagem de máquina mais adequados para resolver o problema inicialmente proposto.\n",
    "5. Melhorar os resultados\n",
    "   - Fazer uma sintonia (tuning) dos algoritmos e métodos para melhorar os resultados.\n",
    "6. Apresentar os resultados"
   ]
  },
  {
   "cell_type": "markdown",
   "metadata": {},
   "source": [
    "### Bibliografia\n",
    "\n",
    "#### Análise de Dados usando Python\n",
    "\n",
    "- Grus, Joel. **Data Science from Scratch: First Principles with Python**. O'Reilly Media. 1ª Ed., 2015.\n",
    "\n",
    "- McKinney, Wes. **Python for Data Analysis: Data Wrangling with Pandas, NumPy, and IPython**. O'Reilly Media. 1ª Ed., 2012.\n",
    "\n",
    "- Brownlee, Jason. **Machine Learning Mastery with Python: Understand Your Data, Create Accurate Models and Work Projects End-To-End**. [Ebook](https://machinelearningmastery.com/machine-learning-with-python/). 1ª Ed., 2016. \n",
    "\n",
    "#### Aprendizado de Máquina usando Python\n",
    "\n",
    "- Raschka, Sebastian. **Python Machine Learning**. Packt Publishing. 1ª Ed., 2015. \n",
    "\n",
    "- Richert, Willi; Coelho, Luis Pedro. **Building Machine Learning Systems with Python**. Packt Publishing. 1ª Ed., 2013.\n",
    "\n",
    "\n",
    "#### Ciência de Dados\n",
    "\n",
    "- Foreman, John W. **Data Smart: Using Data Science to Transform Information into Insight**. Wiley. 1ª Ed., 2013.\n",
    "\n",
    "- Provost, Foster; Fawcett, Tom. **Data Science for Business: What You Need to Know about Data Mining and Data-Analytic Thinking**. O'Reilly Media. 1ª Ed., 2013.\n",
    "\n",
    "\n",
    "#### Aprendizado de Máquina \n",
    "\n",
    "- James, Gareth; Witten, Daniela; Hastie, Trevor; Tibshirani, Robert. **An Introduction to Statistical Learning: with Applications in R**. Springer. 1ª Ed., 2013.\n",
    "\n",
    "- Hastie, Trevor; Tibshirani, Robert; Friedman, Jerome. **The Elements of Statistical Learning: Data Mining, Inference, and Prediction. Springer**. 2ª Ed., 2009.\n",
    "\n",
    "- Pinheiro, Carlos André Reis.  **Inteligência Analítica: Mineração de Dados e Descoberta de Conhecimento**. Ciência Moderna, 1ª Ed., 2008.\n",
    "\n",
    "- Siegel, Eric. **Predictive Analytics: The Power to Predict Who Will Click, Buy, Lie, or Die**. Wiley. 2ª Ed., 2016.\n",
    "\n",
    "- Tan, Pang-Ning; Steinbach, Michael; Kumar, Vipin. **Introdução ao Data Mining - Mineração de Dados**. Ciência Moderna, 1ª Ed., 2012.\n",
    "\n",
    "- Witten, Ian H.; Frank, Eibe; Hall, Mark A. **Data Mining: Practical Machine Learning Tools and Techniques**. The Morgan Kaufmann Series in Data Management Systems. Morgan Kaufmann, 3ª Ed., 2011. \n",
    "\n",
    "- Zaki, M. J.; Meira Jr., W. **Data Mining and Analysis: Fundamental Concepts and Algorithms**. Cambridge University Press. 1ª Ed., 2014.\n"
   ]
  },
  {
   "cell_type": "markdown",
   "metadata": {},
   "source": [
    "### Cursos Introdutórios Online e Gratuitos\n",
    "\n",
    "- [Data Science Academy - Introdução à Ciência de Dados](https://www.datascienceacademy.com.br/course?courseid=introduo--cincia-de-dados)\n",
    "\n",
    "- [Data Science Academy - Python Fundamentos para Análise de Dados](https://www.datascienceacademy.com.br/pages/curso-python-fundamentos-para-analise-de-dados)\n"
   ]
  },
  {
   "cell_type": "markdown",
   "metadata": {},
   "source": [
    "### Sites\n",
    "\n",
    "- [Data School](http://www.dataschool.io/)\n",
    "\n",
    "- [Machine Learning Mastery](http://machinelearningmastery.com/)\n",
    "\n",
    "- [Kaggle](https://www.kaggle.com/)\n",
    "\n",
    "- [Analytics Vidhya](https://www.analyticsvidhya.com/)\n"
   ]
  }
 ],
 "metadata": {
  "anaconda-cloud": {},
  "kernelspec": {
   "display_name": "Python 3",
   "language": "python",
   "name": "python3"
  },
  "language_info": {
   "codemirror_mode": {
    "name": "ipython",
    "version": 3
   },
   "file_extension": ".py",
   "mimetype": "text/x-python",
   "name": "python",
   "nbconvert_exporter": "python",
   "pygments_lexer": "ipython3",
   "version": "3.8.5"
  }
 },
 "nbformat": 4,
 "nbformat_minor": 1
}
