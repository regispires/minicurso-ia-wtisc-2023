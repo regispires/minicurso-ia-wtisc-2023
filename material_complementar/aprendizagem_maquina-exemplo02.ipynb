{
 "cells": [
  {
   "cell_type": "markdown",
   "metadata": {},
   "source": [
    "# Minicurso Introdução à ciência de dados e aprendizado de máquina usando Python\n",
    "## Parte 5 - Introdução ao Aprendizado de Máquina usando Python"
   ]
  },
  {
   "cell_type": "code",
   "execution_count": 1,
   "metadata": {
    "collapsed": true
   },
   "outputs": [],
   "source": [
    "import numpy as np"
   ]
  },
  {
   "cell_type": "markdown",
   "metadata": {},
   "source": [
    "### Carregando os dados (features e labels)"
   ]
  },
  {
   "cell_type": "code",
   "execution_count": 2,
   "metadata": {
    "collapsed": true
   },
   "outputs": [],
   "source": [
    "X = np.load('../workshop-data-science/X.npy')\n",
    "y = np.load('../workshop-data-science/y.npy')"
   ]
  },
  {
   "cell_type": "markdown",
   "metadata": {},
   "source": [
    "### Treinando e avaliando o modelo"
   ]
  },
  {
   "cell_type": "code",
   "execution_count": 3,
   "metadata": {
    "collapsed": true
   },
   "outputs": [],
   "source": [
    "from sklearn import model_selection\n",
    "from sklearn.linear_model import LogisticRegression\n",
    "from sklearn.metrics import accuracy_score"
   ]
  },
  {
   "cell_type": "code",
   "execution_count": 4,
   "metadata": {},
   "outputs": [
    {
     "data": {
      "text/plain": [
       "'0.18.1'"
      ]
     },
     "execution_count": 4,
     "metadata": {},
     "output_type": "execute_result"
    }
   ],
   "source": [
    "import sklearn\n",
    "sklearn.__version__"
   ]
  },
  {
   "cell_type": "code",
   "execution_count": 5,
   "metadata": {},
   "outputs": [
    {
     "name": "stdout",
     "output_type": "stream",
     "text": [
      "691 77\n",
      "691 77\n",
      "691 77\n",
      "691 77\n",
      "691 77\n",
      "691 77\n",
      "691 77\n",
      "691 77\n",
      "692 76\n",
      "692 76\n",
      "[ 0.7012987   0.81818182  0.74025974  0.71428571  0.77922078  0.75324675\n",
      "  0.85714286  0.80519481  0.72368421  0.80263158]\n",
      "0.76951469583 0.0484105192457\n"
     ]
    }
   ],
   "source": [
    "num_folds = 10\n",
    "seed = 7\n",
    "\n",
    "i = 0\n",
    "kfold = model_selection.KFold(n_splits=num_folds, random_state=seed)\n",
    "accuracy = np.zeros(num_folds)\n",
    "for train_idx, test_idx in kfold.split(X):\n",
    "    print(len(train_idx), len(test_idx))\n",
    "    \n",
    "    # TREINO\n",
    "    model = LogisticRegression()\n",
    "    model.fit(X[train_idx], y[train_idx])    \n",
    "    \n",
    "    # FAZER PREDIÇÃO A PARTIR DO MODELO TREINADO\n",
    "    y_pred = model.predict(X[test_idx])\n",
    "    \n",
    "    # AVALIAR A TÉCNICA ATRAVÉS DA COMPARAÇÃO DO DADO REAL COM O DADO PREVISTO \n",
    "    accuracy[i] = accuracy_score(y[test_idx], y_pred)\n",
    "    i += 1\n",
    "\n",
    "print(accuracy)\n",
    "print(np.average(accuracy), np.std(accuracy))"
   ]
  },
  {
   "cell_type": "code",
   "execution_count": 6,
   "metadata": {
    "collapsed": true
   },
   "outputs": [],
   "source": [
    "# 0.76951469583 0.0484105192457"
   ]
  },
  {
   "cell_type": "markdown",
   "metadata": {},
   "source": [
    "#### De forma mais automatizada e compacta..."
   ]
  },
  {
   "cell_type": "code",
   "execution_count": 8,
   "metadata": {},
   "outputs": [
    {
     "name": "stdout",
     "output_type": "stream",
     "text": [
      "[ 0.7012987   0.81818182  0.74025974  0.71428571  0.77922078  0.75324675\n",
      "  0.85714286  0.80519481  0.72368421  0.80263158]\n",
      "Accuracy: 0.7695146958304853 0.04841051924567195\n"
     ]
    }
   ],
   "source": [
    "results = model_selection.cross_val_score(model, X, y, cv=kfold)\n",
    "print(results)\n",
    "print(\"Accuracy: {} {}\".format(results.mean(), results.std()) )"
   ]
  },
  {
   "cell_type": "code",
   "execution_count": 9,
   "metadata": {},
   "outputs": [
    {
     "name": "stdout",
     "output_type": "stream",
     "text": [
      "[ 0.74025974  0.75324675  0.79220779  0.72727273  0.74025974  0.74025974\n",
      "  0.81818182  0.79220779  0.73684211  0.82894737]\n",
      "Accuracy: 0.7669685577580314 0.03542589693856446\n"
     ]
    }
   ],
   "source": [
    "results = model_selection.cross_val_score(model, X, y, cv=10)\n",
    "print(results)\n",
    "print(\"Accuracy: {} {}\".format(results.mean(), results.std()) )"
   ]
  },
  {
   "cell_type": "code",
   "execution_count": 10,
   "metadata": {
    "collapsed": true
   },
   "outputs": [],
   "source": [
    "# Accuracy: 0.7669685577580314 0.03542589693856446"
   ]
  },
  {
   "cell_type": "markdown",
   "metadata": {},
   "source": [
    "### Usando outra técnica"
   ]
  },
  {
   "cell_type": "code",
   "execution_count": 12,
   "metadata": {
    "collapsed": true
   },
   "outputs": [],
   "source": [
    "from sklearn.ensemble import GradientBoostingClassifier"
   ]
  },
  {
   "cell_type": "code",
   "execution_count": 13,
   "metadata": {
    "collapsed": true
   },
   "outputs": [],
   "source": [
    "model2 = GradientBoostingClassifier()"
   ]
  },
  {
   "cell_type": "code",
   "execution_count": 14,
   "metadata": {},
   "outputs": [
    {
     "name": "stdout",
     "output_type": "stream",
     "text": [
      "[ 0.74025974  0.81818182  0.74025974  0.63636364  0.80519481  0.79220779\n",
      "  0.80519481  0.83116883  0.72368421  0.78947368]\n",
      "Accuracy: 0.7681989063568012 0.055815077983448785\n"
     ]
    }
   ],
   "source": [
    "results = model_selection.cross_val_score(model2, X, y, cv=kfold)\n",
    "print(results)\n",
    "print(\"Accuracy: {} {}\".format(results.mean(), results.std()) )"
   ]
  },
  {
   "cell_type": "markdown",
   "metadata": {},
   "source": [
    "### Mudando os Hiper-parâmetros (Tuning do Algoritmo)"
   ]
  },
  {
   "cell_type": "code",
   "execution_count": 17,
   "metadata": {},
   "outputs": [
    {
     "name": "stdout",
     "output_type": "stream",
     "text": [
      "[ 0.71428571  0.85714286  0.72727273  0.63636364  0.79220779  0.81818182\n",
      "  0.81818182  0.85714286  0.73684211  0.78947368]\n",
      "Accuracy: 0.7747095010252905 0.06661018830310401\n"
     ]
    }
   ],
   "source": [
    "model3 = GradientBoostingClassifier(n_estimators=50, max_depth=3, learning_rate=0.05)\n",
    "results = model_selection.cross_val_score(model3, X, y, cv=kfold)\n",
    "print(results)\n",
    "print(\"Accuracy: {} {}\".format(results.mean(), results.std()) )"
   ]
  },
  {
   "cell_type": "markdown",
   "metadata": {
    "collapsed": true
   },
   "source": [
    "### Grid Search"
   ]
  },
  {
   "cell_type": "code",
   "execution_count": 19,
   "metadata": {},
   "outputs": [
    {
     "name": "stdout",
     "output_type": "stream",
     "text": [
      "20 2 0.05\n",
      "20 2 0.1\n",
      "20 3 0.05\n",
      "20 3 0.1\n",
      "20 5 0.05\n",
      "20 5 0.1\n",
      "40 2 0.05\n",
      "40 2 0.1\n",
      "40 3 0.05\n",
      "40 3 0.1\n",
      "40 5 0.05\n",
      "40 5 0.1\n",
      "60 2 0.05\n",
      "60 2 0.1\n",
      "60 3 0.05\n",
      "60 3 0.1\n",
      "60 5 0.05\n",
      "60 5 0.1\n",
      "80 2 0.05\n",
      "80 2 0.1\n",
      "80 3 0.05\n",
      "80 3 0.1\n",
      "80 5 0.05\n",
      "80 5 0.1\n",
      "100 2 0.05\n",
      "100 2 0.1\n",
      "100 3 0.05\n",
      "100 3 0.1\n",
      "100 5 0.05\n",
      "100 5 0.1\n"
     ]
    }
   ],
   "source": [
    "from itertools import product\n",
    "\n",
    "n_estimators_ = [20, 40, 60, 80, 100]\n",
    "max_depth_ = [2, 3, 5]\n",
    "learning_rate_ = [0.05, 0.1]\n",
    "\n",
    "results = []\n",
    "for ne, md, lr in product(n_estimators_, max_depth_, learning_rate_):\n",
    "    print(ne, md, lr)\n",
    "    model_ = GradientBoostingClassifier(n_estimators=ne, max_depth=md, learning_rate=lr)\n",
    "    result = model_selection.cross_val_score(model3, X, y, cv=kfold)\n",
    "    result_ = { 'n_estimators': ne, 'max_depth': md, 'learning_rate': lr, \n",
    "                'accuracy': result.mean(), 'std': result.std() } \n",
    "\n",
    "    results.append(result_)"
   ]
  },
  {
   "cell_type": "code",
   "execution_count": 20,
   "metadata": {
    "scrolled": true
   },
   "outputs": [
    {
     "data": {
      "text/html": [
       "<div>\n",
       "<style>\n",
       "    .dataframe thead tr:only-child th {\n",
       "        text-align: right;\n",
       "    }\n",
       "\n",
       "    .dataframe thead th {\n",
       "        text-align: left;\n",
       "    }\n",
       "\n",
       "    .dataframe tbody tr th {\n",
       "        vertical-align: top;\n",
       "    }\n",
       "</style>\n",
       "<table border=\"1\" class=\"dataframe\">\n",
       "  <thead>\n",
       "    <tr style=\"text-align: right;\">\n",
       "      <th></th>\n",
       "      <th>n_estimators</th>\n",
       "      <th>max_depth</th>\n",
       "      <th>learning_rate</th>\n",
       "      <th>accuracy</th>\n",
       "      <th>std</th>\n",
       "    </tr>\n",
       "  </thead>\n",
       "  <tbody>\n",
       "    <tr>\n",
       "      <th>15</th>\n",
       "      <td>60</td>\n",
       "      <td>3</td>\n",
       "      <td>0.10</td>\n",
       "      <td>0.774710</td>\n",
       "      <td>0.066610</td>\n",
       "    </tr>\n",
       "    <tr>\n",
       "      <th>1</th>\n",
       "      <td>20</td>\n",
       "      <td>2</td>\n",
       "      <td>0.10</td>\n",
       "      <td>0.774710</td>\n",
       "      <td>0.066610</td>\n",
       "    </tr>\n",
       "    <tr>\n",
       "      <th>28</th>\n",
       "      <td>100</td>\n",
       "      <td>5</td>\n",
       "      <td>0.05</td>\n",
       "      <td>0.774710</td>\n",
       "      <td>0.066610</td>\n",
       "    </tr>\n",
       "    <tr>\n",
       "      <th>27</th>\n",
       "      <td>100</td>\n",
       "      <td>3</td>\n",
       "      <td>0.10</td>\n",
       "      <td>0.774710</td>\n",
       "      <td>0.066610</td>\n",
       "    </tr>\n",
       "    <tr>\n",
       "      <th>26</th>\n",
       "      <td>100</td>\n",
       "      <td>3</td>\n",
       "      <td>0.05</td>\n",
       "      <td>0.774710</td>\n",
       "      <td>0.066610</td>\n",
       "    </tr>\n",
       "    <tr>\n",
       "      <th>25</th>\n",
       "      <td>100</td>\n",
       "      <td>2</td>\n",
       "      <td>0.10</td>\n",
       "      <td>0.774710</td>\n",
       "      <td>0.066610</td>\n",
       "    </tr>\n",
       "    <tr>\n",
       "      <th>24</th>\n",
       "      <td>100</td>\n",
       "      <td>2</td>\n",
       "      <td>0.05</td>\n",
       "      <td>0.774710</td>\n",
       "      <td>0.066610</td>\n",
       "    </tr>\n",
       "    <tr>\n",
       "      <th>23</th>\n",
       "      <td>80</td>\n",
       "      <td>5</td>\n",
       "      <td>0.10</td>\n",
       "      <td>0.774710</td>\n",
       "      <td>0.066610</td>\n",
       "    </tr>\n",
       "    <tr>\n",
       "      <th>21</th>\n",
       "      <td>80</td>\n",
       "      <td>3</td>\n",
       "      <td>0.10</td>\n",
       "      <td>0.774710</td>\n",
       "      <td>0.066610</td>\n",
       "    </tr>\n",
       "    <tr>\n",
       "      <th>20</th>\n",
       "      <td>80</td>\n",
       "      <td>3</td>\n",
       "      <td>0.05</td>\n",
       "      <td>0.774710</td>\n",
       "      <td>0.066610</td>\n",
       "    </tr>\n",
       "    <tr>\n",
       "      <th>18</th>\n",
       "      <td>80</td>\n",
       "      <td>2</td>\n",
       "      <td>0.05</td>\n",
       "      <td>0.774710</td>\n",
       "      <td>0.066610</td>\n",
       "    </tr>\n",
       "    <tr>\n",
       "      <th>17</th>\n",
       "      <td>60</td>\n",
       "      <td>5</td>\n",
       "      <td>0.10</td>\n",
       "      <td>0.774710</td>\n",
       "      <td>0.066610</td>\n",
       "    </tr>\n",
       "    <tr>\n",
       "      <th>16</th>\n",
       "      <td>60</td>\n",
       "      <td>5</td>\n",
       "      <td>0.05</td>\n",
       "      <td>0.774710</td>\n",
       "      <td>0.066610</td>\n",
       "    </tr>\n",
       "    <tr>\n",
       "      <th>29</th>\n",
       "      <td>100</td>\n",
       "      <td>5</td>\n",
       "      <td>0.10</td>\n",
       "      <td>0.774710</td>\n",
       "      <td>0.066610</td>\n",
       "    </tr>\n",
       "    <tr>\n",
       "      <th>12</th>\n",
       "      <td>60</td>\n",
       "      <td>2</td>\n",
       "      <td>0.05</td>\n",
       "      <td>0.774710</td>\n",
       "      <td>0.066610</td>\n",
       "    </tr>\n",
       "    <tr>\n",
       "      <th>11</th>\n",
       "      <td>40</td>\n",
       "      <td>5</td>\n",
       "      <td>0.10</td>\n",
       "      <td>0.774710</td>\n",
       "      <td>0.066610</td>\n",
       "    </tr>\n",
       "    <tr>\n",
       "      <th>10</th>\n",
       "      <td>40</td>\n",
       "      <td>5</td>\n",
       "      <td>0.05</td>\n",
       "      <td>0.774710</td>\n",
       "      <td>0.066610</td>\n",
       "    </tr>\n",
       "    <tr>\n",
       "      <th>9</th>\n",
       "      <td>40</td>\n",
       "      <td>3</td>\n",
       "      <td>0.10</td>\n",
       "      <td>0.774710</td>\n",
       "      <td>0.066610</td>\n",
       "    </tr>\n",
       "    <tr>\n",
       "      <th>8</th>\n",
       "      <td>40</td>\n",
       "      <td>3</td>\n",
       "      <td>0.05</td>\n",
       "      <td>0.774710</td>\n",
       "      <td>0.066610</td>\n",
       "    </tr>\n",
       "    <tr>\n",
       "      <th>7</th>\n",
       "      <td>40</td>\n",
       "      <td>2</td>\n",
       "      <td>0.10</td>\n",
       "      <td>0.774710</td>\n",
       "      <td>0.066610</td>\n",
       "    </tr>\n",
       "    <tr>\n",
       "      <th>6</th>\n",
       "      <td>40</td>\n",
       "      <td>2</td>\n",
       "      <td>0.05</td>\n",
       "      <td>0.774710</td>\n",
       "      <td>0.066610</td>\n",
       "    </tr>\n",
       "    <tr>\n",
       "      <th>5</th>\n",
       "      <td>20</td>\n",
       "      <td>5</td>\n",
       "      <td>0.10</td>\n",
       "      <td>0.774710</td>\n",
       "      <td>0.066610</td>\n",
       "    </tr>\n",
       "    <tr>\n",
       "      <th>3</th>\n",
       "      <td>20</td>\n",
       "      <td>3</td>\n",
       "      <td>0.10</td>\n",
       "      <td>0.774710</td>\n",
       "      <td>0.066610</td>\n",
       "    </tr>\n",
       "    <tr>\n",
       "      <th>2</th>\n",
       "      <td>20</td>\n",
       "      <td>3</td>\n",
       "      <td>0.05</td>\n",
       "      <td>0.774710</td>\n",
       "      <td>0.066610</td>\n",
       "    </tr>\n",
       "    <tr>\n",
       "      <th>14</th>\n",
       "      <td>60</td>\n",
       "      <td>3</td>\n",
       "      <td>0.05</td>\n",
       "      <td>0.773411</td>\n",
       "      <td>0.067641</td>\n",
       "    </tr>\n",
       "    <tr>\n",
       "      <th>19</th>\n",
       "      <td>80</td>\n",
       "      <td>2</td>\n",
       "      <td>0.10</td>\n",
       "      <td>0.773411</td>\n",
       "      <td>0.067641</td>\n",
       "    </tr>\n",
       "    <tr>\n",
       "      <th>22</th>\n",
       "      <td>80</td>\n",
       "      <td>5</td>\n",
       "      <td>0.05</td>\n",
       "      <td>0.773411</td>\n",
       "      <td>0.067641</td>\n",
       "    </tr>\n",
       "    <tr>\n",
       "      <th>4</th>\n",
       "      <td>20</td>\n",
       "      <td>5</td>\n",
       "      <td>0.05</td>\n",
       "      <td>0.773411</td>\n",
       "      <td>0.067890</td>\n",
       "    </tr>\n",
       "    <tr>\n",
       "      <th>0</th>\n",
       "      <td>20</td>\n",
       "      <td>2</td>\n",
       "      <td>0.05</td>\n",
       "      <td>0.773411</td>\n",
       "      <td>0.067890</td>\n",
       "    </tr>\n",
       "    <tr>\n",
       "      <th>13</th>\n",
       "      <td>60</td>\n",
       "      <td>2</td>\n",
       "      <td>0.10</td>\n",
       "      <td>0.772112</td>\n",
       "      <td>0.068877</td>\n",
       "    </tr>\n",
       "  </tbody>\n",
       "</table>\n",
       "</div>"
      ],
      "text/plain": [
       "    n_estimators  max_depth  learning_rate  accuracy       std\n",
       "15            60          3           0.10  0.774710  0.066610\n",
       "1             20          2           0.10  0.774710  0.066610\n",
       "28           100          5           0.05  0.774710  0.066610\n",
       "27           100          3           0.10  0.774710  0.066610\n",
       "26           100          3           0.05  0.774710  0.066610\n",
       "25           100          2           0.10  0.774710  0.066610\n",
       "24           100          2           0.05  0.774710  0.066610\n",
       "23            80          5           0.10  0.774710  0.066610\n",
       "21            80          3           0.10  0.774710  0.066610\n",
       "20            80          3           0.05  0.774710  0.066610\n",
       "18            80          2           0.05  0.774710  0.066610\n",
       "17            60          5           0.10  0.774710  0.066610\n",
       "16            60          5           0.05  0.774710  0.066610\n",
       "29           100          5           0.10  0.774710  0.066610\n",
       "12            60          2           0.05  0.774710  0.066610\n",
       "11            40          5           0.10  0.774710  0.066610\n",
       "10            40          5           0.05  0.774710  0.066610\n",
       "9             40          3           0.10  0.774710  0.066610\n",
       "8             40          3           0.05  0.774710  0.066610\n",
       "7             40          2           0.10  0.774710  0.066610\n",
       "6             40          2           0.05  0.774710  0.066610\n",
       "5             20          5           0.10  0.774710  0.066610\n",
       "3             20          3           0.10  0.774710  0.066610\n",
       "2             20          3           0.05  0.774710  0.066610\n",
       "14            60          3           0.05  0.773411  0.067641\n",
       "19            80          2           0.10  0.773411  0.067641\n",
       "22            80          5           0.05  0.773411  0.067641\n",
       "4             20          5           0.05  0.773411  0.067890\n",
       "0             20          2           0.05  0.773411  0.067890\n",
       "13            60          2           0.10  0.772112  0.068877"
      ]
     },
     "execution_count": 20,
     "metadata": {},
     "output_type": "execute_result"
    }
   ],
   "source": [
    "import pandas as pd\n",
    "df = pd.DataFrame(results, columns=['n_estimators', 'max_depth', 'learning_rate', 'accuracy', 'std'])\n",
    "df.sort_values(by='accuracy', ascending=False)"
   ]
  },
  {
   "cell_type": "code",
   "execution_count": null,
   "metadata": {
    "collapsed": true
   },
   "outputs": [],
   "source": []
  }
 ],
 "metadata": {
  "anaconda-cloud": {},
  "kernelspec": {
   "display_name": "Python 3",
   "language": "python",
   "name": "python3"
  },
  "language_info": {
   "codemirror_mode": {
    "name": "ipython",
    "version": 3
   },
   "file_extension": ".py",
   "mimetype": "text/x-python",
   "name": "python",
   "nbconvert_exporter": "python",
   "pygments_lexer": "ipython3",
   "version": "3.8.5"
  }
 },
 "nbformat": 4,
 "nbformat_minor": 1
}
