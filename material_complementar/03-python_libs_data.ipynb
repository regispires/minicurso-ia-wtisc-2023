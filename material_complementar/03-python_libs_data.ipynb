{
 "cells": [
  {
   "cell_type": "markdown",
   "metadata": {},
   "source": [
    "# Minicurso Introdução à ciência de dados e aprendizado de máquina usando Python\n",
    "## Parte 3 - Bibliotecas Python para Manipulação de Dados"
   ]
  },
  {
   "cell_type": "markdown",
   "metadata": {},
   "source": [
    "##### SciPy Stack\n",
    "- **Python**\n",
    "- **NumPy** - Computação numérica. Manipulação de arrays n-dimensionais de forma eficiente.\n",
    "- **SciPy Library** - Rotinas numéricas.\n",
    "- **Matplotlib** - Visualização de Dados. Criação de gráficos 2D/3D.\n",
    "- **IPython** - python interativo\n",
    "    - tornado - web framework\n",
    "- **pandas** - Ferramentas e estruturas de dados para facilitar a organização e análise dos dados.\n",
    "- **Sympy** - matemática simbólica\n",
    "- **nose** - biblioteca para realização de testes unitários.\n"
   ]
  },
  {
   "cell_type": "markdown",
   "metadata": {},
   "source": [
    "### Bibliotecas complementares\n",
    "\n",
    "#### Visualização de Dados\n",
    "\n",
    "##### seaborn - Camada sobre Matplotlib.\n",
    "\n",
    "##### [bokeh](http://bokeh.pydata.org/) - Gráficos interativos e dinâmicos usando D3.js."
   ]
  },
  {
   "cell_type": "markdown",
   "metadata": {},
   "source": [
    "#### Aprendizagem de Máquina\n",
    "\n",
    "##### [scikit-learn](http://scikit-learn.org/) - ferramentas simples e eficientes para mineração de dados e análise de dados. \n",
    "- Possui algoritmos de aprendizagem de máquina para classificação, regressão, clustering, etc. \n",
    "- Fornece ferramentas para avaliação de modelos, tuning de parâmetros e pre-processamento de dados."
   ]
  },
  {
   "cell_type": "markdown",
   "metadata": {},
   "source": [
    "#### Aprendizagem de Máquina\n",
    "\n",
    "##### [scikit-learn](http://scikit-learn.org/) - ferramentas simples e eficientes para mineração de dados e análise de dados. \n",
    "- Possui algoritmos de aprendizagem de máquina para classificação, regressão, clustering, etc. \n",
    "- Fornece ferramentas para avaliação de modelos, tuning de parâmetros e pre-processamento de dados."
   ]
  },
  {
   "cell_type": "markdown",
   "metadata": {},
   "source": [
    "#### Estatística\n",
    "\n",
    "##### statsmodel - extensa lista de funções para estatística descritiva, testes estatísticos e criação de gráficos\n"
   ]
  },
  {
   "cell_type": "markdown",
   "metadata": {},
   "source": [
    "#### Extração de Dados de Páginas Web\n",
    "\n",
    "*Data scraping* (raspagem de dados) é uma técnica computacional na qual um programa extrai dados de saída legível somente para humanos, proveniente de um serviço ou aplicativo. \n",
    "\n",
    "Os dados extraídos geralmente são minerados e estruturados em um formato padrão como CSV, XML ou JSON.\n",
    "\n",
    "##### [requests](https://pythonhelp.wordpress.com/2013/03/12/acessando-recursos-na-web-com-python/)\n",
    "\n",
    "##### [beautifulsoap](https://pythonhelp.wordpress.com/2013/03/18/webscraping-em-python/)\n",
    "\n",
    "##### [scrapy](https://pythonhelp.wordpress.com/2014/08/05/web-scraping-com-scrapy-primeiros-passos/)\n"
   ]
  },
  {
   "cell_type": "markdown",
   "metadata": {},
   "source": [
    "#### Bancos de Dados\n",
    "\n",
    "**[SQLAlchemy](http://www.sqlalchemy.org/)** - SQL e ORM (Object Relational Mapping)"
   ]
  },
  {
   "cell_type": "code",
   "execution_count": null,
   "metadata": {
    "collapsed": true
   },
   "outputs": [],
   "source": []
  }
 ],
 "metadata": {
  "kernelspec": {
   "display_name": "Python 3",
   "language": "python",
   "name": "python3"
  },
  "language_info": {
   "codemirror_mode": {
    "name": "ipython",
    "version": 3
   },
   "file_extension": ".py",
   "mimetype": "text/x-python",
   "name": "python",
   "nbconvert_exporter": "python",
   "pygments_lexer": "ipython3",
   "version": "3.8.5"
  }
 },
 "nbformat": 4,
 "nbformat_minor": 2
}
