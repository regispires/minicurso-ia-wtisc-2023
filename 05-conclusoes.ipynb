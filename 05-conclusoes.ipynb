{
 "cells": [
  {
   "cell_type": "markdown",
   "metadata": {},
   "source": [
    "# Minicurso Introdução à ciência de dados e aprendizado de máquina usando Python\n",
    "## Parte 6 - Conclusões e Passos Futuros"
   ]
  },
  {
   "cell_type": "markdown",
   "metadata": {
    "collapsed": true
   },
   "source": [
    "### Conclusões\n",
    "\n",
    "- Análise de dados envolve muitos passos / tarefas e pode se tornar inviável se for feita de forma superficial e com pouca produtividade.\n",
    "- Ferramentas simples, interativas e poderosas nos dão grande produtividade e grandes responsabilidades.\n",
    "- Análise de dados pode ser divertida e empolgante.\n",
    "- Passos de bebê: \"de grão em grão a galinha enche o papo\".\n"
   ]
  },
  {
   "cell_type": "markdown",
   "metadata": {},
   "source": [
    "### Avaliação \n",
    "- Como você avalia o curso?\n",
    "  - O que achou legal?\n",
    "  - O que acha que poderia ter sido melhor?"
   ]
  },
  {
   "cell_type": "markdown",
   "metadata": {
    "collapsed": true
   },
   "source": [
    "### E o que fazer a partir de agora?\n",
    "\n",
    "- Aprofundar o estudo e a prática.\n",
    "- Participar de competições como Kaggle, KDD Cup, etc.\n",
    "- Participar do nosso grupo de estudos em Ciência de Dados.\n",
    "  - Teoria\n",
    "  - Prática\n",
    "    - Competições\n",
    "    - Experimentos científicos\n"
   ]
  },
  {
   "cell_type": "code",
   "execution_count": null,
   "metadata": {
    "collapsed": true
   },
   "outputs": [],
   "source": []
  }
 ],
 "metadata": {
  "anaconda-cloud": {},
  "kernelspec": {
   "display_name": "Python 3",
   "language": "python",
   "name": "python3"
  },
  "language_info": {
   "codemirror_mode": {
    "name": "ipython",
    "version": 3
   },
   "file_extension": ".py",
   "mimetype": "text/x-python",
   "name": "python",
   "nbconvert_exporter": "python",
   "pygments_lexer": "ipython3",
   "version": "3.8.5"
  }
 },
 "nbformat": 4,
 "nbformat_minor": 1
}
